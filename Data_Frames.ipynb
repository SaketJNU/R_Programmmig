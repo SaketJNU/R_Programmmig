{
 "cells": [
  {
   "cell_type": "code",
   "execution_count": 2,
   "metadata": {},
   "outputs": [],
   "source": [
    "# C"
   ]
  },
  {
   "cell_type": "code",
   "execution_count": 3,
   "metadata": {},
   "outputs": [],
   "source": [
    "emp_id = c(1:5)"
   ]
  },
  {
   "cell_type": "code",
   "execution_count": 5,
   "metadata": {},
   "outputs": [],
   "source": [
    "emp_name = c(\"aniket\", \"mahak\", \"seema\", \"prince\", \"mukul\")"
   ]
  },
  {
   "cell_type": "code",
   "execution_count": 6,
   "metadata": {},
   "outputs": [
    {
     "data": {
      "text/html": [
       "<ol class=list-inline>\n",
       "\t<li>'aniket'</li>\n",
       "\t<li>'mahak'</li>\n",
       "\t<li>'seema'</li>\n",
       "\t<li>'prince'</li>\n",
       "\t<li>'mukul'</li>\n",
       "</ol>\n"
      ],
      "text/latex": [
       "\\begin{enumerate*}\n",
       "\\item 'aniket'\n",
       "\\item 'mahak'\n",
       "\\item 'seema'\n",
       "\\item 'prince'\n",
       "\\item 'mukul'\n",
       "\\end{enumerate*}\n"
      ],
      "text/markdown": [
       "1. 'aniket'\n",
       "2. 'mahak'\n",
       "3. 'seema'\n",
       "4. 'prince'\n",
       "5. 'mukul'\n",
       "\n",
       "\n"
      ],
      "text/plain": [
       "[1] \"aniket\" \"mahak\"  \"seema\"  \"prince\" \"mukul\" "
      ]
     },
     "metadata": {},
     "output_type": "display_data"
    }
   ],
   "source": [
    "emp_name"
   ]
  },
  {
   "cell_type": "code",
   "execution_count": 8,
   "metadata": {},
   "outputs": [],
   "source": [
    "salary = c (100, 30.2, 200, 785, 455)"
   ]
  },
  {
   "cell_type": "code",
   "execution_count": 23,
   "metadata": {},
   "outputs": [],
   "source": [
    "start_date = as.Date(c(\"2012-01-01\",\"2013-09-20\",\"2011-05-02\",\"2015-12-20\",\"2015-12-2000\"))"
   ]
  },
  {
   "cell_type": "code",
   "execution_count": 24,
   "metadata": {},
   "outputs": [],
   "source": [
    "emp.data <- data.frame(\n",
    "    emp_id, \n",
    "    emp_name,\n",
    "    salary,\n",
    "    start_date,\n",
    "    stringsAsFactors = FALSE  \n",
    ")"
   ]
  },
  {
   "cell_type": "code",
   "execution_count": 25,
   "metadata": {},
   "outputs": [
    {
     "data": {
      "text/html": [
       "<table>\n",
       "<thead><tr><th scope=col>emp_id</th><th scope=col>emp_name</th><th scope=col>salary</th><th scope=col>start_date</th></tr></thead>\n",
       "<tbody>\n",
       "\t<tr><td>1         </td><td>aniket    </td><td>100.0     </td><td>2012-01-01</td></tr>\n",
       "\t<tr><td>2         </td><td>mahak     </td><td> 30.2     </td><td>2013-09-20</td></tr>\n",
       "\t<tr><td>3         </td><td>seema     </td><td>200.0     </td><td>2011-05-02</td></tr>\n",
       "\t<tr><td>4         </td><td>prince    </td><td>785.0     </td><td>2015-12-20</td></tr>\n",
       "\t<tr><td>5         </td><td>mukul     </td><td>455.0     </td><td>2015-12-20</td></tr>\n",
       "</tbody>\n",
       "</table>\n"
      ],
      "text/latex": [
       "\\begin{tabular}{r|llll}\n",
       " emp\\_id & emp\\_name & salary & start\\_date\\\\\n",
       "\\hline\n",
       "\t 1          & aniket     & 100.0      & 2012-01-01\\\\\n",
       "\t 2          & mahak      &  30.2      & 2013-09-20\\\\\n",
       "\t 3          & seema      & 200.0      & 2011-05-02\\\\\n",
       "\t 4          & prince     & 785.0      & 2015-12-20\\\\\n",
       "\t 5          & mukul      & 455.0      & 2015-12-20\\\\\n",
       "\\end{tabular}\n"
      ],
      "text/markdown": [
       "\n",
       "| emp_id | emp_name | salary | start_date |\n",
       "|---|---|---|---|\n",
       "| 1          | aniket     | 100.0      | 2012-01-01 |\n",
       "| 2          | mahak      |  30.2      | 2013-09-20 |\n",
       "| 3          | seema      | 200.0      | 2011-05-02 |\n",
       "| 4          | prince     | 785.0      | 2015-12-20 |\n",
       "| 5          | mukul      | 455.0      | 2015-12-20 |\n",
       "\n"
      ],
      "text/plain": [
       "  emp_id emp_name salary start_date\n",
       "1 1      aniket   100.0  2012-01-01\n",
       "2 2      mahak     30.2  2013-09-20\n",
       "3 3      seema    200.0  2011-05-02\n",
       "4 4      prince   785.0  2015-12-20\n",
       "5 5      mukul    455.0  2015-12-20"
      ]
     },
     "metadata": {},
     "output_type": "display_data"
    }
   ],
   "source": [
    "emp.data"
   ]
  },
  {
   "cell_type": "code",
   "execution_count": 27,
   "metadata": {},
   "outputs": [],
   "source": [
    "emp1.data <- data.frame(\n",
    "    emp_id, \n",
    "    start_date,\n",
    "    emp_name,\n",
    "    salary,\n",
    "    stringsAsFactors = FALSE  \n",
    ")\n"
   ]
  },
  {
   "cell_type": "code",
   "execution_count": 28,
   "metadata": {},
   "outputs": [
    {
     "data": {
      "text/html": [
       "<table>\n",
       "<thead><tr><th scope=col>emp_id</th><th scope=col>start_date</th><th scope=col>emp_name</th><th scope=col>salary</th></tr></thead>\n",
       "<tbody>\n",
       "\t<tr><td>1         </td><td>2012-01-01</td><td>aniket    </td><td>100.0     </td></tr>\n",
       "\t<tr><td>2         </td><td>2013-09-20</td><td>mahak     </td><td> 30.2     </td></tr>\n",
       "\t<tr><td>3         </td><td>2011-05-02</td><td>seema     </td><td>200.0     </td></tr>\n",
       "\t<tr><td>4         </td><td>2015-12-20</td><td>prince    </td><td>785.0     </td></tr>\n",
       "\t<tr><td>5         </td><td>2015-12-20</td><td>mukul     </td><td>455.0     </td></tr>\n",
       "</tbody>\n",
       "</table>\n"
      ],
      "text/latex": [
       "\\begin{tabular}{r|llll}\n",
       " emp\\_id & start\\_date & emp\\_name & salary\\\\\n",
       "\\hline\n",
       "\t 1          & 2012-01-01 & aniket     & 100.0     \\\\\n",
       "\t 2          & 2013-09-20 & mahak      &  30.2     \\\\\n",
       "\t 3          & 2011-05-02 & seema      & 200.0     \\\\\n",
       "\t 4          & 2015-12-20 & prince     & 785.0     \\\\\n",
       "\t 5          & 2015-12-20 & mukul      & 455.0     \\\\\n",
       "\\end{tabular}\n"
      ],
      "text/markdown": [
       "\n",
       "| emp_id | start_date | emp_name | salary |\n",
       "|---|---|---|---|\n",
       "| 1          | 2012-01-01 | aniket     | 100.0      |\n",
       "| 2          | 2013-09-20 | mahak      |  30.2      |\n",
       "| 3          | 2011-05-02 | seema      | 200.0      |\n",
       "| 4          | 2015-12-20 | prince     | 785.0      |\n",
       "| 5          | 2015-12-20 | mukul      | 455.0      |\n",
       "\n"
      ],
      "text/plain": [
       "  emp_id start_date emp_name salary\n",
       "1 1      2012-01-01 aniket   100.0 \n",
       "2 2      2013-09-20 mahak     30.2 \n",
       "3 3      2011-05-02 seema    200.0 \n",
       "4 4      2015-12-20 prince   785.0 \n",
       "5 5      2015-12-20 mukul    455.0 "
      ]
     },
     "metadata": {},
     "output_type": "display_data"
    }
   ],
   "source": [
    "emp1.data"
   ]
  },
  {
   "cell_type": "code",
   "execution_count": 29,
   "metadata": {},
   "outputs": [
    {
     "name": "stdout",
     "output_type": "stream",
     "text": [
      "'data.frame':\t5 obs. of  4 variables:\n",
      " $ emp_id    : int  1 2 3 4 5\n",
      " $ start_date: Date, format: \"2012-01-01\" \"2013-09-20\" ...\n",
      " $ emp_name  : chr  \"aniket\" \"mahak\" \"seema\" \"prince\" ...\n",
      " $ salary    : num  100 30.2 200 785 455\n"
     ]
    }
   ],
   "source": [
    "# Structure of data\n",
    "str(emp1.data)"
   ]
  },
  {
   "cell_type": "code",
   "execution_count": 30,
   "metadata": {},
   "outputs": [
    {
     "data": {
      "text/plain": [
       "     emp_id    start_date           emp_name             salary     \n",
       " Min.   :1   Min.   :2011-05-02   Length:5           Min.   : 30.2  \n",
       " 1st Qu.:2   1st Qu.:2012-01-01   Class :character   1st Qu.:100.0  \n",
       " Median :3   Median :2013-09-20   Mode  :character   Median :200.0  \n",
       " Mean   :3   Mean   :2013-10-18                      Mean   :314.0  \n",
       " 3rd Qu.:4   3rd Qu.:2015-12-20                      3rd Qu.:455.0  \n",
       " Max.   :5   Max.   :2015-12-20                      Max.   :785.0  "
      ]
     },
     "metadata": {},
     "output_type": "display_data"
    }
   ],
   "source": [
    "#Summary of data:  Statistical summary of data\n",
    "summary(emp1.data)"
   ]
  },
  {
   "cell_type": "code",
   "execution_count": null,
   "metadata": {},
   "outputs": [],
   "source": []
  }
 ],
 "metadata": {
  "kernelspec": {
   "display_name": "R",
   "language": "R",
   "name": "ir"
  },
  "language_info": {
   "codemirror_mode": "r",
   "file_extension": ".r",
   "mimetype": "text/x-r-source",
   "name": "R",
   "pygments_lexer": "r",
   "version": "3.6.1"
  }
 },
 "nbformat": 4,
 "nbformat_minor": 4
}
