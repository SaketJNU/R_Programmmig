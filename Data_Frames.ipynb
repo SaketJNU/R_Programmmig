{
 "cells": [
  {
   "cell_type": "code",
   "execution_count": 31,
   "metadata": {},
   "outputs": [],
   "source": [
    "# C"
   ]
  },
  {
   "cell_type": "code",
   "execution_count": 32,
   "metadata": {},
   "outputs": [],
   "source": [
    "emp_id = c(1:5)"
   ]
  },
  {
   "cell_type": "code",
   "execution_count": 33,
   "metadata": {},
   "outputs": [],
   "source": [
    "emp_name = c(\"aniket\", \"mahak\", \"seema\", \"prince\", \"mukul\")"
   ]
  },
  {
   "cell_type": "code",
   "execution_count": 34,
   "metadata": {},
   "outputs": [
    {
     "data": {
      "text/html": [
       "<ol class=list-inline>\n",
       "\t<li>'aniket'</li>\n",
       "\t<li>'mahak'</li>\n",
       "\t<li>'seema'</li>\n",
       "\t<li>'prince'</li>\n",
       "\t<li>'mukul'</li>\n",
       "</ol>\n"
      ],
      "text/latex": [
       "\\begin{enumerate*}\n",
       "\\item 'aniket'\n",
       "\\item 'mahak'\n",
       "\\item 'seema'\n",
       "\\item 'prince'\n",
       "\\item 'mukul'\n",
       "\\end{enumerate*}\n"
      ],
      "text/markdown": [
       "1. 'aniket'\n",
       "2. 'mahak'\n",
       "3. 'seema'\n",
       "4. 'prince'\n",
       "5. 'mukul'\n",
       "\n",
       "\n"
      ],
      "text/plain": [
       "[1] \"aniket\" \"mahak\"  \"seema\"  \"prince\" \"mukul\" "
      ]
     },
     "metadata": {},
     "output_type": "display_data"
    }
   ],
   "source": [
    "emp_name"
   ]
  },
  {
   "cell_type": "code",
   "execution_count": 35,
   "metadata": {},
   "outputs": [],
   "source": [
    "salary = c (100, 30.2, 200, 785, 455)"
   ]
  },
  {
   "cell_type": "code",
   "execution_count": 36,
   "metadata": {},
   "outputs": [],
   "source": [
    "start_date = as.Date(c(\"2012-01-01\",\"2013-09-20\",\"2011-05-02\",\"2015-12-20\",\"2015-12-2000\"))"
   ]
  },
  {
   "cell_type": "code",
   "execution_count": 37,
   "metadata": {},
   "outputs": [],
   "source": [
    "emp.data <- data.frame(\n",
    "    emp_id, \n",
    "    emp_name,\n",
    "    salary,\n",
    "    start_date,\n",
    "    stringsAsFactors = FALSE  \n",
    ")"
   ]
  },
  {
   "cell_type": "code",
   "execution_count": 38,
   "metadata": {},
   "outputs": [
    {
     "data": {
      "text/html": [
       "<table>\n",
       "<thead><tr><th scope=col>emp_id</th><th scope=col>emp_name</th><th scope=col>salary</th><th scope=col>start_date</th></tr></thead>\n",
       "<tbody>\n",
       "\t<tr><td>1         </td><td>aniket    </td><td>100.0     </td><td>2012-01-01</td></tr>\n",
       "\t<tr><td>2         </td><td>mahak     </td><td> 30.2     </td><td>2013-09-20</td></tr>\n",
       "\t<tr><td>3         </td><td>seema     </td><td>200.0     </td><td>2011-05-02</td></tr>\n",
       "\t<tr><td>4         </td><td>prince    </td><td>785.0     </td><td>2015-12-20</td></tr>\n",
       "\t<tr><td>5         </td><td>mukul     </td><td>455.0     </td><td>2015-12-20</td></tr>\n",
       "</tbody>\n",
       "</table>\n"
      ],
      "text/latex": [
       "\\begin{tabular}{r|llll}\n",
       " emp\\_id & emp\\_name & salary & start\\_date\\\\\n",
       "\\hline\n",
       "\t 1          & aniket     & 100.0      & 2012-01-01\\\\\n",
       "\t 2          & mahak      &  30.2      & 2013-09-20\\\\\n",
       "\t 3          & seema      & 200.0      & 2011-05-02\\\\\n",
       "\t 4          & prince     & 785.0      & 2015-12-20\\\\\n",
       "\t 5          & mukul      & 455.0      & 2015-12-20\\\\\n",
       "\\end{tabular}\n"
      ],
      "text/markdown": [
       "\n",
       "| emp_id | emp_name | salary | start_date |\n",
       "|---|---|---|---|\n",
       "| 1          | aniket     | 100.0      | 2012-01-01 |\n",
       "| 2          | mahak      |  30.2      | 2013-09-20 |\n",
       "| 3          | seema      | 200.0      | 2011-05-02 |\n",
       "| 4          | prince     | 785.0      | 2015-12-20 |\n",
       "| 5          | mukul      | 455.0      | 2015-12-20 |\n",
       "\n"
      ],
      "text/plain": [
       "  emp_id emp_name salary start_date\n",
       "1 1      aniket   100.0  2012-01-01\n",
       "2 2      mahak     30.2  2013-09-20\n",
       "3 3      seema    200.0  2011-05-02\n",
       "4 4      prince   785.0  2015-12-20\n",
       "5 5      mukul    455.0  2015-12-20"
      ]
     },
     "metadata": {},
     "output_type": "display_data"
    }
   ],
   "source": [
    "emp.data"
   ]
  },
  {
   "cell_type": "code",
   "execution_count": 39,
   "metadata": {},
   "outputs": [],
   "source": [
    "emp1.data <- data.frame(\n",
    "    emp_id, \n",
    "    start_date,\n",
    "    emp_name,\n",
    "    salary,\n",
    "    stringsAsFactors = FALSE  \n",
    ")\n"
   ]
  },
  {
   "cell_type": "code",
   "execution_count": 40,
   "metadata": {},
   "outputs": [
    {
     "data": {
      "text/html": [
       "<table>\n",
       "<thead><tr><th scope=col>emp_id</th><th scope=col>start_date</th><th scope=col>emp_name</th><th scope=col>salary</th></tr></thead>\n",
       "<tbody>\n",
       "\t<tr><td>1         </td><td>2012-01-01</td><td>aniket    </td><td>100.0     </td></tr>\n",
       "\t<tr><td>2         </td><td>2013-09-20</td><td>mahak     </td><td> 30.2     </td></tr>\n",
       "\t<tr><td>3         </td><td>2011-05-02</td><td>seema     </td><td>200.0     </td></tr>\n",
       "\t<tr><td>4         </td><td>2015-12-20</td><td>prince    </td><td>785.0     </td></tr>\n",
       "\t<tr><td>5         </td><td>2015-12-20</td><td>mukul     </td><td>455.0     </td></tr>\n",
       "</tbody>\n",
       "</table>\n"
      ],
      "text/latex": [
       "\\begin{tabular}{r|llll}\n",
       " emp\\_id & start\\_date & emp\\_name & salary\\\\\n",
       "\\hline\n",
       "\t 1          & 2012-01-01 & aniket     & 100.0     \\\\\n",
       "\t 2          & 2013-09-20 & mahak      &  30.2     \\\\\n",
       "\t 3          & 2011-05-02 & seema      & 200.0     \\\\\n",
       "\t 4          & 2015-12-20 & prince     & 785.0     \\\\\n",
       "\t 5          & 2015-12-20 & mukul      & 455.0     \\\\\n",
       "\\end{tabular}\n"
      ],
      "text/markdown": [
       "\n",
       "| emp_id | start_date | emp_name | salary |\n",
       "|---|---|---|---|\n",
       "| 1          | 2012-01-01 | aniket     | 100.0      |\n",
       "| 2          | 2013-09-20 | mahak      |  30.2      |\n",
       "| 3          | 2011-05-02 | seema      | 200.0      |\n",
       "| 4          | 2015-12-20 | prince     | 785.0      |\n",
       "| 5          | 2015-12-20 | mukul      | 455.0      |\n",
       "\n"
      ],
      "text/plain": [
       "  emp_id start_date emp_name salary\n",
       "1 1      2012-01-01 aniket   100.0 \n",
       "2 2      2013-09-20 mahak     30.2 \n",
       "3 3      2011-05-02 seema    200.0 \n",
       "4 4      2015-12-20 prince   785.0 \n",
       "5 5      2015-12-20 mukul    455.0 "
      ]
     },
     "metadata": {},
     "output_type": "display_data"
    }
   ],
   "source": [
    "emp1.data"
   ]
  },
  {
   "cell_type": "code",
   "execution_count": 41,
   "metadata": {},
   "outputs": [
    {
     "name": "stdout",
     "output_type": "stream",
     "text": [
      "'data.frame':\t5 obs. of  4 variables:\n",
      " $ emp_id    : int  1 2 3 4 5\n",
      " $ start_date: Date, format: \"2012-01-01\" \"2013-09-20\" ...\n",
      " $ emp_name  : chr  \"aniket\" \"mahak\" \"seema\" \"prince\" ...\n",
      " $ salary    : num  100 30.2 200 785 455\n"
     ]
    }
   ],
   "source": [
    "# Structure of data\n",
    "str(emp1.data)"
   ]
  },
  {
   "cell_type": "code",
   "execution_count": 42,
   "metadata": {},
   "outputs": [
    {
     "data": {
      "text/plain": [
       "     emp_id    start_date           emp_name             salary     \n",
       " Min.   :1   Min.   :2011-05-02   Length:5           Min.   : 30.2  \n",
       " 1st Qu.:2   1st Qu.:2012-01-01   Class :character   1st Qu.:100.0  \n",
       " Median :3   Median :2013-09-20   Mode  :character   Median :200.0  \n",
       " Mean   :3   Mean   :2013-10-18                      Mean   :314.0  \n",
       " 3rd Qu.:4   3rd Qu.:2015-12-20                      3rd Qu.:455.0  \n",
       " Max.   :5   Max.   :2015-12-20                      Max.   :785.0  "
      ]
     },
     "metadata": {},
     "output_type": "display_data"
    }
   ],
   "source": [
    "#Summary of data:  Statistical summary of data\n",
    "summary(emp1.data)"
   ]
  },
  {
   "cell_type": "code",
   "execution_count": 50,
   "metadata": {},
   "outputs": [
    {
     "name": "stdout",
     "output_type": "stream",
     "text": [
      "[1] \"aniket\" \"mahak\"  \"seema\"  \"prince\" \"mukul\" \n",
      "[1] 100.0  30.2 200.0 785.0 455.0\n"
     ]
    }
   ],
   "source": [
    "name <-  emp.data$emp_name\n",
    "print(name)\n",
    "sala <- emp.data$salary\n",
    "print(sala)"
   ]
  },
  {
   "cell_type": "code",
   "execution_count": 66,
   "metadata": {},
   "outputs": [
    {
     "data": {
      "text/html": [
       "<table>\n",
       "<thead><tr><th scope=col>emp_id</th><th scope=col>emp_name</th><th scope=col>salary</th><th scope=col>start_date</th></tr></thead>\n",
       "<tbody>\n",
       "\t<tr><td>1         </td><td>aniket    </td><td>100.0     </td><td>2012-01-01</td></tr>\n",
       "\t<tr><td>2         </td><td>mahak     </td><td> 30.2     </td><td>2013-09-20</td></tr>\n",
       "\t<tr><td>3         </td><td>seema     </td><td>200.0     </td><td>2011-05-02</td></tr>\n",
       "\t<tr><td>4         </td><td>prince    </td><td>785.0     </td><td>2015-12-20</td></tr>\n",
       "\t<tr><td>5         </td><td>mukul     </td><td>455.0     </td><td>2015-12-20</td></tr>\n",
       "</tbody>\n",
       "</table>\n"
      ],
      "text/latex": [
       "\\begin{tabular}{r|llll}\n",
       " emp\\_id & emp\\_name & salary & start\\_date\\\\\n",
       "\\hline\n",
       "\t 1          & aniket     & 100.0      & 2012-01-01\\\\\n",
       "\t 2          & mahak      &  30.2      & 2013-09-20\\\\\n",
       "\t 3          & seema      & 200.0      & 2011-05-02\\\\\n",
       "\t 4          & prince     & 785.0      & 2015-12-20\\\\\n",
       "\t 5          & mukul      & 455.0      & 2015-12-20\\\\\n",
       "\\end{tabular}\n"
      ],
      "text/markdown": [
       "\n",
       "| emp_id | emp_name | salary | start_date |\n",
       "|---|---|---|---|\n",
       "| 1          | aniket     | 100.0      | 2012-01-01 |\n",
       "| 2          | mahak      |  30.2      | 2013-09-20 |\n",
       "| 3          | seema      | 200.0      | 2011-05-02 |\n",
       "| 4          | prince     | 785.0      | 2015-12-20 |\n",
       "| 5          | mukul      | 455.0      | 2015-12-20 |\n",
       "\n"
      ],
      "text/plain": [
       "  emp_id emp_name salary start_date\n",
       "1 1      aniket   100.0  2012-01-01\n",
       "2 2      mahak     30.2  2013-09-20\n",
       "3 3      seema    200.0  2011-05-02\n",
       "4 4      prince   785.0  2015-12-20\n",
       "5 5      mukul    455.0  2015-12-20"
      ]
     },
     "metadata": {},
     "output_type": "display_data"
    }
   ],
   "source": [
    "test_data <- data.frame(emp.data$emp_name,emp.data$salary)\n",
    "#print(test_data)\n",
    "emp.data"
   ]
  },
  {
   "cell_type": "code",
   "execution_count": 68,
   "metadata": {},
   "outputs": [
    {
     "name": "stdout",
     "output_type": "stream",
     "text": [
      "[1] \"2015-12-20\"\n"
     ]
    }
   ],
   "source": [
    "pdata <- emp.data[c(4), c(4)]  # first c  is row number and second c is column number\n",
    "print(pdata)"
   ]
  },
  {
   "cell_type": "code",
   "execution_count": 67,
   "metadata": {},
   "outputs": [
    {
     "data": {
      "text/html": [
       "'mukul'"
      ],
      "text/latex": [
       "'mukul'"
      ],
      "text/markdown": [
       "'mukul'"
      ],
      "text/plain": [
       "[1] \"mukul\""
      ]
     },
     "metadata": {},
     "output_type": "display_data"
    }
   ],
   "source": [
    "emp.data[c(5),c(2)]"
   ]
  },
  {
   "cell_type": "code",
   "execution_count": 74,
   "metadata": {},
   "outputs": [
    {
     "name": "stdout",
     "output_type": "stream",
     "text": [
      "  emp_name salary start_date\n",
      "2    mahak   30.2 2013-09-20\n",
      "5    mukul  455.0 2015-12-20\n"
     ]
    }
   ],
   "source": [
    "rdata <- emp.data[c(2, 5), c(2, 3, 4)]\n",
    "print(rdata)"
   ]
  },
  {
   "cell_type": "code",
   "execution_count": 77,
   "metadata": {},
   "outputs": [
    {
     "name": "stdout",
     "output_type": "stream",
     "text": [
      "[1] \"IT\"           \"Eductaion\"    \"Finace\"       \"Defence\"      \"selfemployed\"\n"
     ]
    }
   ],
   "source": [
    "# Expand the existing dataframe\n",
    "emp_deprt = c(\"IT\", \"Eductaion\", \"Finace\", \"Defence\", \"selfemployed\")\n",
    "print(emp_deprt)"
   ]
  },
  {
   "cell_type": "code",
   "execution_count": 78,
   "metadata": {},
   "outputs": [],
   "source": [
    "emp.data$depart <- emp_deprt       # added a new column in the existing dataframe"
   ]
  },
  {
   "cell_type": "code",
   "execution_count": 79,
   "metadata": {},
   "outputs": [
    {
     "name": "stdout",
     "output_type": "stream",
     "text": [
      "  emp_id emp_name salary start_date       depart\n",
      "1      1   aniket  100.0 2012-01-01           IT\n",
      "2      2    mahak   30.2 2013-09-20    Eductaion\n",
      "3      3    seema  200.0 2011-05-02       Finace\n",
      "4      4   prince  785.0 2015-12-20      Defence\n",
      "5      5    mukul  455.0 2015-12-20 selfemployed\n"
     ]
    }
   ],
   "source": [
    "print(emp.data)"
   ]
  },
  {
   "cell_type": "code",
   "execution_count": 80,
   "metadata": {},
   "outputs": [
    {
     "name": "stdout",
     "output_type": "stream",
     "text": [
      "'data.frame':\t5 obs. of  5 variables:\n",
      " $ emp_id    : int  1 2 3 4 5\n",
      " $ emp_name  : chr  \"aniket\" \"mahak\" \"seema\" \"prince\" ...\n",
      " $ salary    : num  100 30.2 200 785 455\n",
      " $ start_date: Date, format: \"2012-01-01\" \"2013-09-20\" ...\n",
      " $ depart    : chr  \"IT\" \"Eductaion\" \"Finace\" \"Defence\" ...\n"
     ]
    }
   ],
   "source": [
    "str(emp.data)"
   ]
  },
  {
   "cell_type": "code",
   "execution_count": 82,
   "metadata": {},
   "outputs": [
    {
     "data": {
      "text/plain": [
       "     emp_id    emp_name             salary        start_date        \n",
       " Min.   :1   Length:5           Min.   : 30.2   Min.   :2011-05-02  \n",
       " 1st Qu.:2   Class :character   1st Qu.:100.0   1st Qu.:2012-01-01  \n",
       " Median :3   Mode  :character   Median :200.0   Median :2013-09-20  \n",
       " Mean   :3                      Mean   :314.0   Mean   :2013-10-18  \n",
       " 3rd Qu.:4                      3rd Qu.:455.0   3rd Qu.:2015-12-20  \n",
       " Max.   :5                      Max.   :785.0   Max.   :2015-12-20  \n",
       "    depart         \n",
       " Length:5          \n",
       " Class :character  \n",
       " Mode  :character  \n",
       "                   \n",
       "                   \n",
       "                   "
      ]
     },
     "metadata": {},
     "output_type": "display_data"
    }
   ],
   "source": [
    "summary(emp.data)"
   ]
  },
  {
   "cell_type": "code",
   "execution_count": 88,
   "metadata": {},
   "outputs": [],
   "source": [
    "# Add new object (row in the table) \n",
    "new_row = data.frame(6, 'Saket', 200, \"2013-10-10\", 'education')"
   ]
  },
  {
   "cell_type": "code",
   "execution_count": 89,
   "metadata": {},
   "outputs": [
    {
     "data": {
      "text/html": [
       "<table>\n",
       "<thead><tr><th scope=col>X6</th><th scope=col>X.Saket.</th><th scope=col>X200</th><th scope=col>X.2013.10.10.</th><th scope=col>X.education.</th></tr></thead>\n",
       "<tbody>\n",
       "\t<tr><td>6         </td><td>Saket     </td><td>200       </td><td>2013-10-10</td><td>education </td></tr>\n",
       "</tbody>\n",
       "</table>\n"
      ],
      "text/latex": [
       "\\begin{tabular}{r|lllll}\n",
       " X6 & X.Saket. & X200 & X.2013.10.10. & X.education.\\\\\n",
       "\\hline\n",
       "\t 6          & Saket      & 200        & 2013-10-10 & education \\\\\n",
       "\\end{tabular}\n"
      ],
      "text/markdown": [
       "\n",
       "| X6 | X.Saket. | X200 | X.2013.10.10. | X.education. |\n",
       "|---|---|---|---|---|\n",
       "| 6          | Saket      | 200        | 2013-10-10 | education  |\n",
       "\n"
      ],
      "text/plain": [
       "  X6 X.Saket. X200 X.2013.10.10. X.education.\n",
       "1 6  Saket    200  2013-10-10    education   "
      ]
     },
     "metadata": {},
     "output_type": "display_data"
    }
   ],
   "source": [
    "new_row"
   ]
  },
  {
   "cell_type": "code",
   "execution_count": null,
   "metadata": {},
   "outputs": [],
   "source": []
  }
 ],
 "metadata": {
  "kernelspec": {
   "display_name": "R",
   "language": "R",
   "name": "ir"
  },
  "language_info": {
   "codemirror_mode": "r",
   "file_extension": ".r",
   "mimetype": "text/x-r-source",
   "name": "R",
   "pygments_lexer": "r",
   "version": "3.6.1"
  }
 },
 "nbformat": 4,
 "nbformat_minor": 4
}
